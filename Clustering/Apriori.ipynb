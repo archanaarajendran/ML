{
 "cells": [
  
  {
   "cell_type": "markdown",
   "metadata": {},
   "source": [
    "### Installing the in-built package for Apriori Algorithm"
   ]
  },
  {
   "cell_type": "code",
   "execution_count": 1,
   "metadata": {},
   "outputs": [
    {
     "name": "stdout",
     "output_type": "stream",
     "text": [
      "Collecting apyori\n",
      "  Downloading https://files.pythonhosted.org/packages/25/fd/0561e2dd29aeed544bad2d1991636e38700cdaef9530490b863741f35295/apyori-1.1.1.tar.gz\n",
      "Building wheels for collected packages: apyori\n",
      "  Running setup.py bdist_wheel for apyori ... \u001b[?25ldone\n",
      "\u001b[?25h  Stored in directory: /Users/umasubbiah/Library/Caches/pip/wheels/7b/2a/35/c0c3749c1a36d4f454ea22d8396e1b854b86340d63cbbb7949\n",
      "Successfully built apyori\n",
      "Installing collected packages: apyori\n",
      "Successfully installed apyori-1.1.1\n"
     ]
    }
   ],
   "source": [
    "!pip3 install apyori"
   ]
  },
  {
   "cell_type": "code",
   "execution_count": 2,
   "metadata": {},
   "outputs": [],
   "source": [
    "import numpy as np\n",
    "import pandas as pd\n",
    "from apyori import apriori"
   ]
  },
  {
   "cell_type": "markdown",
   "metadata": {},
   "source": [
    "### The dataset is a handmade dataset with 22 rows and 6 columns, \n",
    "source : https://intellipaat.com/blog/data-science-apriori-algorithm/#Dataset"
   ]
  },
  {
   "cell_type": "code",
   "execution_count": 35,
   "metadata": {},
   "outputs": [
    {
     "name": "stdout",
     "output_type": "stream",
     "text": [
      "(22, 6)\n"
     ]
    },
    {
     "data": {
      "text/html": [
       "<div>\n",
       "<style scoped>\n",
       "    .dataframe tbody tr th:only-of-type {\n",
       "        vertical-align: middle;\n",
       "    }\n",
       "\n",
       "    .dataframe tbody tr th {\n",
       "        vertical-align: top;\n",
       "    }\n",
       "\n",
       "    .dataframe thead th {\n",
       "        text-align: right;\n",
       "    }\n",
       "</style>\n",
       "<table border=\"1\" class=\"dataframe\">\n",
       "  <thead>\n",
       "    <tr style=\"text-align: right;\">\n",
       "      <th></th>\n",
       "      <th>Item1</th>\n",
       "      <th>Item2</th>\n",
       "      <th>Item3</th>\n",
       "      <th>Item4</th>\n",
       "      <th>Item5</th>\n",
       "      <th>Item6</th>\n",
       "    </tr>\n",
       "  </thead>\n",
       "  <tbody>\n",
       "    <tr>\n",
       "      <th>0</th>\n",
       "      <td>Wine</td>\n",
       "      <td>Chips</td>\n",
       "      <td>Bread</td>\n",
       "      <td>Butter</td>\n",
       "      <td>Milk</td>\n",
       "      <td>Apple</td>\n",
       "    </tr>\n",
       "    <tr>\n",
       "      <th>1</th>\n",
       "      <td>Wine</td>\n",
       "      <td>NaN</td>\n",
       "      <td>Bread</td>\n",
       "      <td>Butter</td>\n",
       "      <td>Milk</td>\n",
       "      <td>NaN</td>\n",
       "    </tr>\n",
       "    <tr>\n",
       "      <th>2</th>\n",
       "      <td>NaN</td>\n",
       "      <td>NaN</td>\n",
       "      <td>Bread</td>\n",
       "      <td>Butter</td>\n",
       "      <td>Milk</td>\n",
       "      <td>NaN</td>\n",
       "    </tr>\n",
       "    <tr>\n",
       "      <th>3</th>\n",
       "      <td>NaN</td>\n",
       "      <td>Chips</td>\n",
       "      <td>NaN</td>\n",
       "      <td>NaN</td>\n",
       "      <td>NaN</td>\n",
       "      <td>Apple</td>\n",
       "    </tr>\n",
       "    <tr>\n",
       "      <th>4</th>\n",
       "      <td>Wine</td>\n",
       "      <td>Chips</td>\n",
       "      <td>Bread</td>\n",
       "      <td>Butter</td>\n",
       "      <td>Milk</td>\n",
       "      <td>Apple</td>\n",
       "    </tr>\n",
       "  </tbody>\n",
       "</table>\n",
       "</div>"
      ],
      "text/plain": [
       "  Item1  Item2  Item3   Item4 Item5  Item6\n",
       "0  Wine  Chips  Bread  Butter  Milk  Apple\n",
       "1  Wine    NaN  Bread  Butter  Milk    NaN\n",
       "2   NaN    NaN  Bread  Butter  Milk    NaN\n",
       "3   NaN  Chips    NaN     NaN   NaN  Apple\n",
       "4  Wine  Chips  Bread  Butter  Milk  Apple"
      ]
     },
     "execution_count": 35,
     "metadata": {},
     "output_type": "execute_result"
    }
   ],
   "source": [
    "store_data = pd.read_csv(\"data1.csv\",header=None)\n",
    "store_data.columns = (['Item1','Item2','Item3','Item4','Item5','Item6'])\n",
    "print(store_data.shape)\n",
    "store_data.head()"
   ]
  },
  {
   "cell_type": "markdown",
   "metadata": {},
   "source": [
    "### Making a recordset of all the records in the dataset"
   ]
  },
  {
   "cell_type": "code",
   "execution_count": 41,
   "metadata": {},
   "outputs": [],
   "source": [
    "records = []\n",
    "for i in range(0, 22):\n",
    "    records.append([str(store_data.values[i,j]) for j in range(0, 6)])"
   ]
  },
  {
   "cell_type": "markdown",
   "metadata": {},
   "source": [
    "###  Support is the fractions of the transactions that contain both X and Y. \n",
    "### Confidence measures how often items in Y appears in transactions that contain X.\n",
    "### Lift says how likely item Y is purchased when item X is purchased, while controlling for how popular item Y is"
   ]
  },
  {
   "cell_type": "markdown",
   "metadata": {},
   "source": [
    "### For a moderate suppot of 0.5 and a confidence of 0.75"
   ]
  },
  {
   "cell_type": "code",
   "execution_count": null,
   "metadata": {},
   "outputs": [],
   "source": [
    "association_rules = apriori(records, \n",
    "                            min_support=0.50, \n",
    "                            min_confidence=0.75, \n",
    "                            min_lift=1.2, \n",
    "                            min_length=2)\n",
    "association_results = list(association_rules)"
   ]
  },
  {
   "cell_type": "code",
   "execution_count": 47,
   "metadata": {},
   "outputs": [
    {
     "name": "stdout",
     "output_type": "stream",
     "text": [
      "1\n"
     ]
    }
   ],
   "source": [
    "print(len(association_results))"
   ]
  },
  {
   "cell_type": "code",
   "execution_count": 48,
   "metadata": {},
   "outputs": [
    {
     "name": "stdout",
     "output_type": "stream",
     "text": [
      "Rule: Milk -> Bread\n",
      "Support: 0.5\n",
      "Confidence: 0.8461538461538461\n",
      "=====================================\n"
     ]
    }
   ],
   "source": [
    "# pretty printing the rules, code reference : \n",
    "# https://stackabuse.com/association-rule-mining-via-apriori-algorithm-in-python/\n",
    "\n",
    "\n",
    "for item in association_results:\n",
    "\n",
    "    # first index of the inner list\n",
    "    # Contains base item and add item\n",
    "    pair = item[0] \n",
    "    items = [x for x in pair]\n",
    "    print(\"Rule: \" + items[0] + \" -> \" + items[1])\n",
    "\n",
    "    #second index of the inner list\n",
    "    print(\"Support: \" + str(item[1]))\n",
    "\n",
    "    #third index of the list located at 0th\n",
    "    #of the third index of the inner list\n",
    "\n",
    "    print(\"Confidence: \" + str(item[2][0][2]))\n",
    "    print(\"=====================================\")"
   ]
  },
  {
   "cell_type": "markdown",
   "metadata": {},
   "source": [
    "## For higher confidence (0.8) and minimal support (0.2)"
   ]
  },
  {
   "cell_type": "code",
   "execution_count": null,
   "metadata": {},
   "outputs": [],
   "source": [
    "association_rules = apriori(records, \n",
    "                            min_support=0.20, \n",
    "                            min_confidence=0.8, \n",
    "                            min_lift=1.2, \n",
    "                            min_length=2)\n",
    "association_results = list(association_rules)\n",
    "\n",
    "\n",
    "# pretty printing the rules, code reference : \n",
    "# https://stackabuse.com/association-rule-mining-via-apriori-algorithm-in-python/\n",
    "\n",
    "\n",
    "for item in association_results:\n",
    "\n",
    "    # first index of the inner list\n",
    "    # Contains base item and add item\n",
    "    pair = item[0] \n",
    "    items = [x for x in pair]\n",
    "    print(\"Rule: \" + items[0] + \" -> \" + items[1])\n",
    "\n",
    "    #second index of the inner list\n",
    "    print(\"Support: \" + str(item[1]))\n",
    "\n",
    "    #third index of the list located at 0th\n",
    "    #of the third index of the inner list\n",
    "\n",
    "    print(\"Confidence: \" + str(item[2][0][2]))\n",
    "    print(\"=====================================\")"
   ]
  },
  {
   "cell_type": "markdown",
   "metadata": {},
   "source": [
    "## A second implementation using mlxtend package instead\n",
    "\n",
    "source : https://www.geeksforgeeks.org/implementing-apriori-algorithm-in-python/"
   ]
  },
  {
   "cell_type": "code",
   "execution_count": 56,
   "metadata": {},
   "outputs": [],
   "source": [
    "import numpy as np \n",
    "import pandas as pd \n",
    "from mlxtend.frequent_patterns import apriori, association_rules "
   ]
  },
  {
   "cell_type": "code",
   "execution_count": 60,
   "metadata": {},
   "outputs": [
    {
     "data": {
      "text/html": [
       "<div>\n",
       "<style scoped>\n",
       "    .dataframe tbody tr th:only-of-type {\n",
       "        vertical-align: middle;\n",
       "    }\n",
       "\n",
       "    .dataframe tbody tr th {\n",
       "        vertical-align: top;\n",
       "    }\n",
       "\n",
       "    .dataframe thead th {\n",
       "        text-align: right;\n",
       "    }\n",
       "</style>\n",
       "<table border=\"1\" class=\"dataframe\">\n",
       "  <thead>\n",
       "    <tr style=\"text-align: right;\">\n",
       "      <th></th>\n",
       "      <th>InvoiceNo</th>\n",
       "      <th>StockCode</th>\n",
       "      <th>Description</th>\n",
       "      <th>Quantity</th>\n",
       "      <th>InvoiceDate</th>\n",
       "      <th>UnitPrice</th>\n",
       "      <th>CustomerID</th>\n",
       "      <th>Country</th>\n",
       "    </tr>\n",
       "  </thead>\n",
       "  <tbody>\n",
       "    <tr>\n",
       "      <th>0</th>\n",
       "      <td>536365</td>\n",
       "      <td>85123A</td>\n",
       "      <td>WHITE HANGING HEART T-LIGHT HOLDER</td>\n",
       "      <td>6</td>\n",
       "      <td>2010-12-01 08:26:00</td>\n",
       "      <td>2.55</td>\n",
       "      <td>17850.0</td>\n",
       "      <td>United Kingdom</td>\n",
       "    </tr>\n",
       "    <tr>\n",
       "      <th>1</th>\n",
       "      <td>536365</td>\n",
       "      <td>71053</td>\n",
       "      <td>WHITE METAL LANTERN</td>\n",
       "      <td>6</td>\n",
       "      <td>2010-12-01 08:26:00</td>\n",
       "      <td>3.39</td>\n",
       "      <td>17850.0</td>\n",
       "      <td>United Kingdom</td>\n",
       "    </tr>\n",
       "    <tr>\n",
       "      <th>2</th>\n",
       "      <td>536365</td>\n",
       "      <td>84406B</td>\n",
       "      <td>CREAM CUPID HEARTS COAT HANGER</td>\n",
       "      <td>8</td>\n",
       "      <td>2010-12-01 08:26:00</td>\n",
       "      <td>2.75</td>\n",
       "      <td>17850.0</td>\n",
       "      <td>United Kingdom</td>\n",
       "    </tr>\n",
       "    <tr>\n",
       "      <th>3</th>\n",
       "      <td>536365</td>\n",
       "      <td>84029G</td>\n",
       "      <td>KNITTED UNION FLAG HOT WATER BOTTLE</td>\n",
       "      <td>6</td>\n",
       "      <td>2010-12-01 08:26:00</td>\n",
       "      <td>3.39</td>\n",
       "      <td>17850.0</td>\n",
       "      <td>United Kingdom</td>\n",
       "    </tr>\n",
       "    <tr>\n",
       "      <th>4</th>\n",
       "      <td>536365</td>\n",
       "      <td>84029E</td>\n",
       "      <td>RED WOOLLY HOTTIE WHITE HEART.</td>\n",
       "      <td>6</td>\n",
       "      <td>2010-12-01 08:26:00</td>\n",
       "      <td>3.39</td>\n",
       "      <td>17850.0</td>\n",
       "      <td>United Kingdom</td>\n",
       "    </tr>\n",
       "  </tbody>\n",
       "</table>\n",
       "</div>"
      ],
      "text/plain": [
       "  InvoiceNo StockCode                          Description  Quantity  \\\n",
       "0    536365    85123A   WHITE HANGING HEART T-LIGHT HOLDER         6   \n",
       "1    536365     71053                  WHITE METAL LANTERN         6   \n",
       "2    536365    84406B       CREAM CUPID HEARTS COAT HANGER         8   \n",
       "3    536365    84029G  KNITTED UNION FLAG HOT WATER BOTTLE         6   \n",
       "4    536365    84029E       RED WOOLLY HOTTIE WHITE HEART.         6   \n",
       "\n",
       "          InvoiceDate  UnitPrice  CustomerID         Country  \n",
       "0 2010-12-01 08:26:00       2.55     17850.0  United Kingdom  \n",
       "1 2010-12-01 08:26:00       3.39     17850.0  United Kingdom  \n",
       "2 2010-12-01 08:26:00       2.75     17850.0  United Kingdom  \n",
       "3 2010-12-01 08:26:00       3.39     17850.0  United Kingdom  \n",
       "4 2010-12-01 08:26:00       3.39     17850.0  United Kingdom  "
      ]
     },
     "execution_count": 60,
     "metadata": {},
     "output_type": "execute_result"
    }
   ],
   "source": [
    "# Loading the Data \n",
    "data = pd.read_excel('Online Retail.xlsx') \n",
    "data.head() "
   ]
  },
  {
   "cell_type": "code",
   "execution_count": 61,
   "metadata": {},
   "outputs": [
    {
     "data": {
      "text/plain": [
       "Index(['InvoiceNo', 'StockCode', 'Description', 'Quantity', 'InvoiceDate',\n",
       "       'UnitPrice', 'CustomerID', 'Country'],\n",
       "      dtype='object')"
      ]
     },
     "execution_count": 61,
     "metadata": {},
     "output_type": "execute_result"
    }
   ],
   "source": [
    "# Exploring the columns of the data \n",
    "data.columns "
   ]
  },
  {
   "cell_type": "code",
   "execution_count": 62,
   "metadata": {},
   "outputs": [],
   "source": [
    "# Stripping extra spaces in the description \n",
    "data['Description'] = data['Description'].str.strip() \n",
    "\n",
    "# Dropping the rows without any invoice number \n",
    "data.dropna(axis = 0, subset =['InvoiceNo'], inplace = True) \n",
    "data['InvoiceNo'] = data['InvoiceNo'].astype('str') \n",
    "\n",
    "# Dropping all transactions which were done on credit \n",
    "data = data[~data['InvoiceNo'].str.contains('C')] \n",
    "\n"
   ]
  },
  {
   "cell_type": "code",
   "execution_count": 63,
   "metadata": {},
   "outputs": [],
   "source": [
    "# Transactions done in France \n",
    "basket_France = (data[data['Country'] ==\"France\"] \n",
    "\t\t.groupby(['InvoiceNo', 'Description'])['Quantity'] \n",
    "\t\t.sum().unstack().reset_index().fillna(0) \n",
    "\t\t.set_index('InvoiceNo')) \n",
    "\n",
    "# Transactions done in the United Kingdom \n",
    "basket_UK = (data[data['Country'] ==\"United Kingdom\"] \n",
    "\t\t.groupby(['InvoiceNo', 'Description'])['Quantity'] \n",
    "\t\t.sum().unstack().reset_index().fillna(0) \n",
    "\t\t.set_index('InvoiceNo')) \n",
    "\n",
    "# Transactions done in Portugal \n",
    "basket_Por = (data[data['Country'] ==\"Portugal\"] \n",
    "\t\t.groupby(['InvoiceNo', 'Description'])['Quantity'] \n",
    "\t\t.sum().unstack().reset_index().fillna(0) \n",
    "\t\t.set_index('InvoiceNo')) \n",
    "\n",
    "basket_Sweden = (data[data['Country'] ==\"Sweden\"] \n",
    "\t\t.groupby(['InvoiceNo', 'Description'])['Quantity'] \n",
    "\t\t.sum().unstack().reset_index().fillna(0) \n",
    "\t\t.set_index('InvoiceNo')) \n",
    "\n"
   ]
  },
  {
   "cell_type": "code",
   "execution_count": 64,
   "metadata": {},
   "outputs": [],
   "source": [
    "# Defining the hot encoding function to make the data suitable \n",
    "# for the concerned libraries \n",
    "def hot_encode(x): \n",
    "\tif(x<= 0): \n",
    "\t\treturn 0\n",
    "\tif(x>= 1): \n",
    "\t\treturn 1\n",
    "\n",
    "# Encoding the datasets \n",
    "basket_encoded = basket_France.applymap(hot_encode) \n",
    "basket_France = basket_encoded \n"
   ]
  },
  {
   "cell_type": "markdown",
   "metadata": {},
   "source": [
    "## Building rules based on Confidence measure"
   ]
  },
  {
   "cell_type": "code",
   "execution_count": 70,
   "metadata": {},
   "outputs": [
    {
     "name": "stdout",
     "output_type": "stream",
     "text": [
      "                                         antecedents consequents  \\\n",
      "0                       (JUMBO BAG WOODLAND ANIMALS)   (POSTAGE)   \n",
      "1  (PLASTERS IN TIN CIRCUS PARADE, RED TOADSTOOL ...   (POSTAGE)   \n",
      "2  (PLASTERS IN TIN WOODLAND ANIMALS, RED TOADSTO...   (POSTAGE)   \n",
      "\n",
      "   antecedent support  consequent support   support  confidence      lift  \\\n",
      "0            0.076531            0.765306  0.076531         1.0  1.306667   \n",
      "1            0.051020            0.765306  0.051020         1.0  1.306667   \n",
      "2            0.053571            0.765306  0.053571         1.0  1.306667   \n",
      "\n",
      "   leverage  conviction  \n",
      "0  0.017961         inf  \n",
      "1  0.011974         inf  \n",
      "2  0.012573         inf  \n"
     ]
    }
   ],
   "source": [
    "# Building the model \n",
    "frq_items = apriori(basket_France, min_support = 0.05, use_colnames = True) \n",
    "\n",
    "# Collecting the inferred rules in a dataframe \n",
    "rules = association_rules(frq_items, metric =\"confidence\", min_threshold = 1) \n",
    "rules = rules.sort_values(['confidence', 'lift'], ascending =[False, False]) \n",
    "print(rules.head()) \n",
    "\n"
   ]
  },
  {
   "cell_type": "code",
   "execution_count": 80,
   "metadata": {},
   "outputs": [
    {
     "name": "stdout",
     "output_type": "stream",
     "text": [
      "frozenset({'JUMBO BAG WOODLAND ANIMALS'})  ===>  frozenset({'POSTAGE'})\n",
      "frozenset({'PLASTERS IN TIN CIRCUS PARADE', 'RED TOADSTOOL LED NIGHT LIGHT'})  ===>  frozenset({'POSTAGE'})\n",
      "frozenset({'PLASTERS IN TIN WOODLAND ANIMALS', 'RED TOADSTOOL LED NIGHT LIGHT'})  ===>  frozenset({'POSTAGE'})\n"
     ]
    }
   ],
   "source": [
    "for i in range(len(rules.antecedents)):\n",
    "    print(rules.antecedents[i],\" ===> \",rules.consequents[i])"
   ]
  },
  {
   "cell_type": "code",
   "execution_count": null,
   "metadata": {},
   "outputs": [],
   "source": []
  }
 ],
 "metadata": {
  "kernelspec": {
   "display_name": "Python 3",
   "language": "python",
   "name": "python3"
  },
  "language_info": {
   "codemirror_mode": {
    "name": "ipython",
    "version": 3
   },
   "file_extension": ".py",
   "mimetype": "text/x-python",
   "name": "python",
   "nbconvert_exporter": "python",
   "pygments_lexer": "ipython3",
   "version": "3.7.0"
  }
 },
 "nbformat": 4,
 "nbformat_minor": 2
}
